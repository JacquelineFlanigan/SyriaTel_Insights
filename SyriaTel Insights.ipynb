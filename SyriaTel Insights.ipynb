{
 "cells": [
  {
   "cell_type": "markdown",
   "metadata": {},
   "source": [
    "# Customer Retention for SyriaTel"
   ]
  },
  {
   "cell_type": "markdown",
   "metadata": {},
   "source": [
    "Here at SyriaTel, a telecommunications company, we're committed to making our consumers happy and keeping them part of the family. We will look at our data with different models to predict which customers are more likely to cancel their service with our company in order to better prevent patron loss. \n",
    "\n",
    "We will start with loading the necessary libraries and looking into our dataset."
   ]
  },
  {
   "cell_type": "code",
   "execution_count": 43,
   "metadata": {},
   "outputs": [],
   "source": [
    "#importing libraries\n",
    "import numpy as np\n",
    "import pandas as pd\n",
    "import matplotlib.pyplot as plt\n",
    "import seaborn as sns\n",
    "import pickle\n",
    "from sklearn.model_selection import train_test_split, cross_val_score, GridSearchCV\n",
    "from sklearn.linear_model import LogisticRegression\n",
    "from sklearn.tree import DecisionTreeClassifier, DecisionTreeRegressor\n",
    "from sklearn.ensemble import RandomForestClassifier\n",
    "from sklearn.naive_bayes import GaussianNB\n",
    "from sklearn.neighbors import KNeighborsClassifier\n",
    "from sklearn.metrics import plot_confusion_matrix\n",
    "from sklearn.metrics import classification_report\n",
    "from sklearn.metrics import mean_squared_error\n",
    "from sklearn.metrics import accuracy_score \n",
    "from sklearn.metrics import roc_curve, auc, roc_auc_score\n",
    "from sklearn.tree import plot_tree\n",
    "from sklearn import tree\n",
    "from six import StringIO\n",
    "from IPython.display import Image\n",
    "%matplotlib inline\n",
    "import plotly.express as px"
   ]
  },
  {
   "cell_type": "code",
   "execution_count": 44,
   "metadata": {},
   "outputs": [],
   "source": [
    "data = pd.read_csv('bigml_59c28831336c6604c800002a.csv')"
   ]
  },
  {
   "cell_type": "code",
   "execution_count": 45,
   "metadata": {},
   "outputs": [
    {
     "data": {
      "text/html": [
       "<div>\n",
       "<style scoped>\n",
       "    .dataframe tbody tr th:only-of-type {\n",
       "        vertical-align: middle;\n",
       "    }\n",
       "\n",
       "    .dataframe tbody tr th {\n",
       "        vertical-align: top;\n",
       "    }\n",
       "\n",
       "    .dataframe thead th {\n",
       "        text-align: right;\n",
       "    }\n",
       "</style>\n",
       "<table border=\"1\" class=\"dataframe\">\n",
       "  <thead>\n",
       "    <tr style=\"text-align: right;\">\n",
       "      <th></th>\n",
       "      <th>state</th>\n",
       "      <th>account length</th>\n",
       "      <th>area code</th>\n",
       "      <th>phone number</th>\n",
       "      <th>international plan</th>\n",
       "      <th>voice mail plan</th>\n",
       "      <th>number vmail messages</th>\n",
       "      <th>total day minutes</th>\n",
       "      <th>total day calls</th>\n",
       "      <th>total day charge</th>\n",
       "      <th>...</th>\n",
       "      <th>total eve calls</th>\n",
       "      <th>total eve charge</th>\n",
       "      <th>total night minutes</th>\n",
       "      <th>total night calls</th>\n",
       "      <th>total night charge</th>\n",
       "      <th>total intl minutes</th>\n",
       "      <th>total intl calls</th>\n",
       "      <th>total intl charge</th>\n",
       "      <th>customer service calls</th>\n",
       "      <th>churn</th>\n",
       "    </tr>\n",
       "  </thead>\n",
       "  <tbody>\n",
       "    <tr>\n",
       "      <th>0</th>\n",
       "      <td>KS</td>\n",
       "      <td>128</td>\n",
       "      <td>415</td>\n",
       "      <td>382-4657</td>\n",
       "      <td>no</td>\n",
       "      <td>yes</td>\n",
       "      <td>25</td>\n",
       "      <td>265.1</td>\n",
       "      <td>110</td>\n",
       "      <td>45.07</td>\n",
       "      <td>...</td>\n",
       "      <td>99</td>\n",
       "      <td>16.78</td>\n",
       "      <td>244.7</td>\n",
       "      <td>91</td>\n",
       "      <td>11.01</td>\n",
       "      <td>10.0</td>\n",
       "      <td>3</td>\n",
       "      <td>2.70</td>\n",
       "      <td>1</td>\n",
       "      <td>False</td>\n",
       "    </tr>\n",
       "    <tr>\n",
       "      <th>1</th>\n",
       "      <td>OH</td>\n",
       "      <td>107</td>\n",
       "      <td>415</td>\n",
       "      <td>371-7191</td>\n",
       "      <td>no</td>\n",
       "      <td>yes</td>\n",
       "      <td>26</td>\n",
       "      <td>161.6</td>\n",
       "      <td>123</td>\n",
       "      <td>27.47</td>\n",
       "      <td>...</td>\n",
       "      <td>103</td>\n",
       "      <td>16.62</td>\n",
       "      <td>254.4</td>\n",
       "      <td>103</td>\n",
       "      <td>11.45</td>\n",
       "      <td>13.7</td>\n",
       "      <td>3</td>\n",
       "      <td>3.70</td>\n",
       "      <td>1</td>\n",
       "      <td>False</td>\n",
       "    </tr>\n",
       "    <tr>\n",
       "      <th>2</th>\n",
       "      <td>NJ</td>\n",
       "      <td>137</td>\n",
       "      <td>415</td>\n",
       "      <td>358-1921</td>\n",
       "      <td>no</td>\n",
       "      <td>no</td>\n",
       "      <td>0</td>\n",
       "      <td>243.4</td>\n",
       "      <td>114</td>\n",
       "      <td>41.38</td>\n",
       "      <td>...</td>\n",
       "      <td>110</td>\n",
       "      <td>10.30</td>\n",
       "      <td>162.6</td>\n",
       "      <td>104</td>\n",
       "      <td>7.32</td>\n",
       "      <td>12.2</td>\n",
       "      <td>5</td>\n",
       "      <td>3.29</td>\n",
       "      <td>0</td>\n",
       "      <td>False</td>\n",
       "    </tr>\n",
       "    <tr>\n",
       "      <th>3</th>\n",
       "      <td>OH</td>\n",
       "      <td>84</td>\n",
       "      <td>408</td>\n",
       "      <td>375-9999</td>\n",
       "      <td>yes</td>\n",
       "      <td>no</td>\n",
       "      <td>0</td>\n",
       "      <td>299.4</td>\n",
       "      <td>71</td>\n",
       "      <td>50.90</td>\n",
       "      <td>...</td>\n",
       "      <td>88</td>\n",
       "      <td>5.26</td>\n",
       "      <td>196.9</td>\n",
       "      <td>89</td>\n",
       "      <td>8.86</td>\n",
       "      <td>6.6</td>\n",
       "      <td>7</td>\n",
       "      <td>1.78</td>\n",
       "      <td>2</td>\n",
       "      <td>False</td>\n",
       "    </tr>\n",
       "    <tr>\n",
       "      <th>4</th>\n",
       "      <td>OK</td>\n",
       "      <td>75</td>\n",
       "      <td>415</td>\n",
       "      <td>330-6626</td>\n",
       "      <td>yes</td>\n",
       "      <td>no</td>\n",
       "      <td>0</td>\n",
       "      <td>166.7</td>\n",
       "      <td>113</td>\n",
       "      <td>28.34</td>\n",
       "      <td>...</td>\n",
       "      <td>122</td>\n",
       "      <td>12.61</td>\n",
       "      <td>186.9</td>\n",
       "      <td>121</td>\n",
       "      <td>8.41</td>\n",
       "      <td>10.1</td>\n",
       "      <td>3</td>\n",
       "      <td>2.73</td>\n",
       "      <td>3</td>\n",
       "      <td>False</td>\n",
       "    </tr>\n",
       "  </tbody>\n",
       "</table>\n",
       "<p>5 rows × 21 columns</p>\n",
       "</div>"
      ],
      "text/plain": [
       "  state  account length  area code phone number international plan  \\\n",
       "0    KS             128        415     382-4657                 no   \n",
       "1    OH             107        415     371-7191                 no   \n",
       "2    NJ             137        415     358-1921                 no   \n",
       "3    OH              84        408     375-9999                yes   \n",
       "4    OK              75        415     330-6626                yes   \n",
       "\n",
       "  voice mail plan  number vmail messages  total day minutes  total day calls  \\\n",
       "0             yes                     25              265.1              110   \n",
       "1             yes                     26              161.6              123   \n",
       "2              no                      0              243.4              114   \n",
       "3              no                      0              299.4               71   \n",
       "4              no                      0              166.7              113   \n",
       "\n",
       "   total day charge  ...  total eve calls  total eve charge  \\\n",
       "0             45.07  ...               99             16.78   \n",
       "1             27.47  ...              103             16.62   \n",
       "2             41.38  ...              110             10.30   \n",
       "3             50.90  ...               88              5.26   \n",
       "4             28.34  ...              122             12.61   \n",
       "\n",
       "   total night minutes  total night calls  total night charge  \\\n",
       "0                244.7                 91               11.01   \n",
       "1                254.4                103               11.45   \n",
       "2                162.6                104                7.32   \n",
       "3                196.9                 89                8.86   \n",
       "4                186.9                121                8.41   \n",
       "\n",
       "   total intl minutes  total intl calls  total intl charge  \\\n",
       "0                10.0                 3               2.70   \n",
       "1                13.7                 3               3.70   \n",
       "2                12.2                 5               3.29   \n",
       "3                 6.6                 7               1.78   \n",
       "4                10.1                 3               2.73   \n",
       "\n",
       "   customer service calls  churn  \n",
       "0                       1  False  \n",
       "1                       1  False  \n",
       "2                       0  False  \n",
       "3                       2  False  \n",
       "4                       3  False  \n",
       "\n",
       "[5 rows x 21 columns]"
      ]
     },
     "execution_count": 45,
     "metadata": {},
     "output_type": "execute_result"
    }
   ],
   "source": [
    "data.head()"
   ]
  },
  {
   "cell_type": "code",
   "execution_count": 46,
   "metadata": {},
   "outputs": [],
   "source": [
    "#dropping columns that won't be used\n",
    "data.drop(columns=['state', 'account length', 'area code', 'phone number', 'total day charge', 'total eve charge', 'total night charge', 'total intl charge'], inplace=True)"
   ]
  },
  {
   "cell_type": "code",
   "execution_count": 47,
   "metadata": {},
   "outputs": [],
   "source": [
    "#renaming columns\n",
    "data = data.rename(columns = {'international plan': 'International Plan', 'voice mail plan': 'Voicemail Plan', 'number vmail messages': 'Number of Voicemail Messages', 'total day minutes': 'Total Day Minutes', 'total day calls': 'Total Day Calls', 'total eve minutes': \"Total Evening Minutes\", 'total eve calls': 'Total Evening Calls', 'total night minutes': 'Total Night Minutes', 'total night calls': 'Total Night Calls', 'total intl minutes': 'Total International Minutes', 'total intl calls': 'Total International Calls', 'customer service calls': 'Customer Service Calls', 'churn': 'Churn'}, inplace = False)"
   ]
  },
  {
   "cell_type": "code",
   "execution_count": 48,
   "metadata": {},
   "outputs": [],
   "source": [
    "#change international plan, voicemail plan and churn to numerical values\n",
    "#0 = no/false, 1 = yes/true\n",
    "#also making sure these values are numbers and not strings\n",
    "\n",
    "data['International Plan'] = data['International Plan'].replace('no', '0')\n",
    "data['International Plan'] = data['International Plan'].replace('yes', '1')\n",
    "data['Voicemail Plan'] = data['International Plan'].replace('no', '0')\n",
    "data['Voicemail Plan'] = data['International Plan'].replace('yes', '1')\n",
    "data['Churn'] = data['International Plan'].replace('False', '0')\n",
    "data['Churn'] = data['International Plan'].replace('True', '1')\n",
    "\n",
    "data['International Plan'] = data['International Plan'].astype(int)\n",
    "data['Voicemail Plan'] = data['International Plan'].astype(int)\n",
    "data['Churn'] = data['International Plan'].astype(int)\n"
   ]
  },
  {
   "cell_type": "code",
   "execution_count": 49,
   "metadata": {},
   "outputs": [],
   "source": [
    "#defining x and y\n",
    "y = data[['Churn']].values.ravel()\n",
    "#x = data[['International Plan', 'Voicemail Plan', 'Number of Voicemail Messages', 'Total Day Minutes', 'Total Day Calls', 'Total Evening Minutes', 'Total Evening Calls', 'Total Night Minutes', 'Total Night Calls', 'Total International Minutes', 'Total International Calls', 'Customer Service Calls']]\n",
    "x = data.drop('Churn', axis=1)"
   ]
  },
  {
   "cell_type": "code",
   "execution_count": 50,
   "metadata": {},
   "outputs": [],
   "source": [
    "#defining x train, y train, x test and y test\n",
    "x_train, x_test, y_train, y_test = train_test_split(x, y, test_size = 0.20)"
   ]
  },
  {
   "cell_type": "code",
   "execution_count": 51,
   "metadata": {},
   "outputs": [],
   "source": [
    "#using a defined function for modeling to streamline the process\n",
    "def run_model(model, x_train, y_train, x_test, y_test):\n",
    "    \n",
    "    #fitting\n",
    "    model.fit(x_train, y_train)\n",
    "    \n",
    "    #predictions\n",
    "    y_hat_train = model.predict(x_train)\n",
    "    y_hat_test = model.predict(x_test)\n",
    "    \n",
    "    print('Classification Report: Train Set \\n')\n",
    "    print(classification_report(y_train, y_hat_train))\n",
    "    print('Classification Report: Test Set \\n')\n",
    "    print(classification_report(y_test, y_hat_test))\n",
    "    \n",
    "    fig, (ax0, ax1) = plt.subplots(1, 2, figsize=(18,6))\n",
    "    \n",
    "    plot_confusion_matrix(model, x_train, y_train, ax=ax0)\n",
    "    plot_confusion_matrix(model, x_test, y_test, ax=ax1)\n",
    "    \n",
    "    ax0.title.set_text('Train Confusion Matrix')\n",
    "    ax1.title.set_text('Test Confusion Matrix')\n",
    "    \n",
    "    return model"
   ]
  },
  {
   "cell_type": "code",
   "execution_count": 52,
   "metadata": {
    "scrolled": true
   },
   "outputs": [
    {
     "data": {
      "text/html": [
       "<div>\n",
       "<style scoped>\n",
       "    .dataframe tbody tr th:only-of-type {\n",
       "        vertical-align: middle;\n",
       "    }\n",
       "\n",
       "    .dataframe tbody tr th {\n",
       "        vertical-align: top;\n",
       "    }\n",
       "\n",
       "    .dataframe thead th {\n",
       "        text-align: right;\n",
       "    }\n",
       "</style>\n",
       "<table border=\"1\" class=\"dataframe\">\n",
       "  <thead>\n",
       "    <tr style=\"text-align: right;\">\n",
       "      <th></th>\n",
       "      <th>International Plan</th>\n",
       "      <th>Voicemail Plan</th>\n",
       "      <th>Number of Voicemail Messages</th>\n",
       "      <th>Total Day Minutes</th>\n",
       "      <th>Total Day Calls</th>\n",
       "      <th>Total Evening Minutes</th>\n",
       "      <th>Total Evening Calls</th>\n",
       "      <th>Total Night Minutes</th>\n",
       "      <th>Total Night Calls</th>\n",
       "      <th>Total International Minutes</th>\n",
       "      <th>Total International Calls</th>\n",
       "      <th>Customer Service Calls</th>\n",
       "      <th>Churn</th>\n",
       "    </tr>\n",
       "  </thead>\n",
       "  <tbody>\n",
       "    <tr>\n",
       "      <th>count</th>\n",
       "      <td>3333.000000</td>\n",
       "      <td>3333.000000</td>\n",
       "      <td>3333.000000</td>\n",
       "      <td>3333.000000</td>\n",
       "      <td>3333.000000</td>\n",
       "      <td>3333.000000</td>\n",
       "      <td>3333.000000</td>\n",
       "      <td>3333.000000</td>\n",
       "      <td>3333.000000</td>\n",
       "      <td>3333.000000</td>\n",
       "      <td>3333.000000</td>\n",
       "      <td>3333.000000</td>\n",
       "      <td>3333.000000</td>\n",
       "    </tr>\n",
       "    <tr>\n",
       "      <th>mean</th>\n",
       "      <td>0.096910</td>\n",
       "      <td>0.096910</td>\n",
       "      <td>8.099010</td>\n",
       "      <td>179.775098</td>\n",
       "      <td>100.435644</td>\n",
       "      <td>200.980348</td>\n",
       "      <td>100.114311</td>\n",
       "      <td>200.872037</td>\n",
       "      <td>100.107711</td>\n",
       "      <td>10.237294</td>\n",
       "      <td>4.479448</td>\n",
       "      <td>1.562856</td>\n",
       "      <td>0.096910</td>\n",
       "    </tr>\n",
       "    <tr>\n",
       "      <th>std</th>\n",
       "      <td>0.295879</td>\n",
       "      <td>0.295879</td>\n",
       "      <td>13.688365</td>\n",
       "      <td>54.467389</td>\n",
       "      <td>20.069084</td>\n",
       "      <td>50.713844</td>\n",
       "      <td>19.922625</td>\n",
       "      <td>50.573847</td>\n",
       "      <td>19.568609</td>\n",
       "      <td>2.791840</td>\n",
       "      <td>2.461214</td>\n",
       "      <td>1.315491</td>\n",
       "      <td>0.295879</td>\n",
       "    </tr>\n",
       "    <tr>\n",
       "      <th>min</th>\n",
       "      <td>0.000000</td>\n",
       "      <td>0.000000</td>\n",
       "      <td>0.000000</td>\n",
       "      <td>0.000000</td>\n",
       "      <td>0.000000</td>\n",
       "      <td>0.000000</td>\n",
       "      <td>0.000000</td>\n",
       "      <td>23.200000</td>\n",
       "      <td>33.000000</td>\n",
       "      <td>0.000000</td>\n",
       "      <td>0.000000</td>\n",
       "      <td>0.000000</td>\n",
       "      <td>0.000000</td>\n",
       "    </tr>\n",
       "    <tr>\n",
       "      <th>25%</th>\n",
       "      <td>0.000000</td>\n",
       "      <td>0.000000</td>\n",
       "      <td>0.000000</td>\n",
       "      <td>143.700000</td>\n",
       "      <td>87.000000</td>\n",
       "      <td>166.600000</td>\n",
       "      <td>87.000000</td>\n",
       "      <td>167.000000</td>\n",
       "      <td>87.000000</td>\n",
       "      <td>8.500000</td>\n",
       "      <td>3.000000</td>\n",
       "      <td>1.000000</td>\n",
       "      <td>0.000000</td>\n",
       "    </tr>\n",
       "    <tr>\n",
       "      <th>50%</th>\n",
       "      <td>0.000000</td>\n",
       "      <td>0.000000</td>\n",
       "      <td>0.000000</td>\n",
       "      <td>179.400000</td>\n",
       "      <td>101.000000</td>\n",
       "      <td>201.400000</td>\n",
       "      <td>100.000000</td>\n",
       "      <td>201.200000</td>\n",
       "      <td>100.000000</td>\n",
       "      <td>10.300000</td>\n",
       "      <td>4.000000</td>\n",
       "      <td>1.000000</td>\n",
       "      <td>0.000000</td>\n",
       "    </tr>\n",
       "    <tr>\n",
       "      <th>75%</th>\n",
       "      <td>0.000000</td>\n",
       "      <td>0.000000</td>\n",
       "      <td>20.000000</td>\n",
       "      <td>216.400000</td>\n",
       "      <td>114.000000</td>\n",
       "      <td>235.300000</td>\n",
       "      <td>114.000000</td>\n",
       "      <td>235.300000</td>\n",
       "      <td>113.000000</td>\n",
       "      <td>12.100000</td>\n",
       "      <td>6.000000</td>\n",
       "      <td>2.000000</td>\n",
       "      <td>0.000000</td>\n",
       "    </tr>\n",
       "    <tr>\n",
       "      <th>max</th>\n",
       "      <td>1.000000</td>\n",
       "      <td>1.000000</td>\n",
       "      <td>51.000000</td>\n",
       "      <td>350.800000</td>\n",
       "      <td>165.000000</td>\n",
       "      <td>363.700000</td>\n",
       "      <td>170.000000</td>\n",
       "      <td>395.000000</td>\n",
       "      <td>175.000000</td>\n",
       "      <td>20.000000</td>\n",
       "      <td>20.000000</td>\n",
       "      <td>9.000000</td>\n",
       "      <td>1.000000</td>\n",
       "    </tr>\n",
       "  </tbody>\n",
       "</table>\n",
       "</div>"
      ],
      "text/plain": [
       "       International Plan  Voicemail Plan  Number of Voicemail Messages  \\\n",
       "count         3333.000000     3333.000000                   3333.000000   \n",
       "mean             0.096910        0.096910                      8.099010   \n",
       "std              0.295879        0.295879                     13.688365   \n",
       "min              0.000000        0.000000                      0.000000   \n",
       "25%              0.000000        0.000000                      0.000000   \n",
       "50%              0.000000        0.000000                      0.000000   \n",
       "75%              0.000000        0.000000                     20.000000   \n",
       "max              1.000000        1.000000                     51.000000   \n",
       "\n",
       "       Total Day Minutes  Total Day Calls  Total Evening Minutes  \\\n",
       "count        3333.000000      3333.000000            3333.000000   \n",
       "mean          179.775098       100.435644             200.980348   \n",
       "std            54.467389        20.069084              50.713844   \n",
       "min             0.000000         0.000000               0.000000   \n",
       "25%           143.700000        87.000000             166.600000   \n",
       "50%           179.400000       101.000000             201.400000   \n",
       "75%           216.400000       114.000000             235.300000   \n",
       "max           350.800000       165.000000             363.700000   \n",
       "\n",
       "       Total Evening Calls  Total Night Minutes  Total Night Calls  \\\n",
       "count          3333.000000          3333.000000        3333.000000   \n",
       "mean            100.114311           200.872037         100.107711   \n",
       "std              19.922625            50.573847          19.568609   \n",
       "min               0.000000            23.200000          33.000000   \n",
       "25%              87.000000           167.000000          87.000000   \n",
       "50%             100.000000           201.200000         100.000000   \n",
       "75%             114.000000           235.300000         113.000000   \n",
       "max             170.000000           395.000000         175.000000   \n",
       "\n",
       "       Total International Minutes  Total International Calls  \\\n",
       "count                  3333.000000                3333.000000   \n",
       "mean                     10.237294                   4.479448   \n",
       "std                       2.791840                   2.461214   \n",
       "min                       0.000000                   0.000000   \n",
       "25%                       8.500000                   3.000000   \n",
       "50%                      10.300000                   4.000000   \n",
       "75%                      12.100000                   6.000000   \n",
       "max                      20.000000                  20.000000   \n",
       "\n",
       "       Customer Service Calls        Churn  \n",
       "count             3333.000000  3333.000000  \n",
       "mean                 1.562856     0.096910  \n",
       "std                  1.315491     0.295879  \n",
       "min                  0.000000     0.000000  \n",
       "25%                  1.000000     0.000000  \n",
       "50%                  1.000000     0.000000  \n",
       "75%                  2.000000     0.000000  \n",
       "max                  9.000000     1.000000  "
      ]
     },
     "execution_count": 52,
     "metadata": {},
     "output_type": "execute_result"
    }
   ],
   "source": [
    "#looking and checking for null or missing data\n",
    "data.describe()"
   ]
  },
  {
   "cell_type": "code",
   "execution_count": 53,
   "metadata": {},
   "outputs": [
    {
     "name": "stdout",
     "output_type": "stream",
     "text": [
      "<class 'pandas.core.frame.DataFrame'>\n",
      "RangeIndex: 3333 entries, 0 to 3332\n",
      "Data columns (total 13 columns):\n",
      " #   Column                        Non-Null Count  Dtype  \n",
      "---  ------                        --------------  -----  \n",
      " 0   International Plan            3333 non-null   int32  \n",
      " 1   Voicemail Plan                3333 non-null   int32  \n",
      " 2   Number of Voicemail Messages  3333 non-null   int64  \n",
      " 3   Total Day Minutes             3333 non-null   float64\n",
      " 4   Total Day Calls               3333 non-null   int64  \n",
      " 5   Total Evening Minutes         3333 non-null   float64\n",
      " 6   Total Evening Calls           3333 non-null   int64  \n",
      " 7   Total Night Minutes           3333 non-null   float64\n",
      " 8   Total Night Calls             3333 non-null   int64  \n",
      " 9   Total International Minutes   3333 non-null   float64\n",
      " 10  Total International Calls     3333 non-null   int64  \n",
      " 11  Customer Service Calls        3333 non-null   int64  \n",
      " 12  Churn                         3333 non-null   int32  \n",
      "dtypes: float64(4), int32(3), int64(6)\n",
      "memory usage: 299.6 KB\n"
     ]
    }
   ],
   "source": [
    "data.info()"
   ]
  },
  {
   "cell_type": "code",
   "execution_count": 54,
   "metadata": {},
   "outputs": [
    {
     "name": "stdout",
     "output_type": "stream",
     "text": [
      "0    3010\n",
      "1     323\n",
      "Name: Churn, dtype: int64\n"
     ]
    },
    {
     "data": {
      "text/plain": [
       "<seaborn.axisgrid.FacetGrid at 0x244243959a0>"
      ]
     },
     "execution_count": 54,
     "metadata": {},
     "output_type": "execute_result"
    },
    {
     "data": {
      "image/png": "[encoded data removed]",
      "text/plain": [
       "<Figure size 360x360 with 1 Axes>"
      ]
     },
     "metadata": {
      "needs_background": "light"
     },
     "output_type": "display_data"
    }
   ],
   "source": [
    "#looking at retention/churn values\n",
    "print(data[\"Churn\"].value_counts())\n",
    "sns.catplot(x=\"Churn\", kind=\"count\", palette=\"ch:.25\", data=data)"
   ]
  },
  {
   "cell_type": "markdown",
   "metadata": {},
   "source": [
    "Looking here at the graph above we can see that with customer churn, or otherwise known as customer retention, 90.3% (or 3,010 people) of customers continued to do business with SyriaTel. While that is a relatively high rate, there was still the 9.7% (or 323 people) that did not. Below we will look at some models to better understand the features in our data and how they may play a pivotal role in client loyalty."
   ]
  },
  {
   "cell_type": "markdown",
   "metadata": {},
   "source": [
    "# Decision Tree Modeling"
   ]
  },
  {
   "cell_type": "code",
   "execution_count": 55,
   "metadata": {},
   "outputs": [],
   "source": [
    "#using Decision Trees as first model\n",
    "dtc = DecisionTreeClassifier()"
   ]
  },
  {
   "cell_type": "code",
   "execution_count": null,
   "metadata": {},
   "outputs": [
    {
     "name": "stdout",
     "output_type": "stream",
     "text": [
      "Classification Report: Train Set \n",
      "\n",
      "              precision    recall  f1-score   support\n",
      "\n",
      "           0       1.00      1.00      1.00      2402\n",
      "           1       1.00      1.00      1.00       264\n",
      "\n",
      "    accuracy                           1.00      2666\n",
      "   macro avg       1.00      1.00      1.00      2666\n",
      "weighted avg       1.00      1.00      1.00      2666\n",
      "\n",
      "Classification Report: Test Set \n",
      "\n",
      "              precision    recall  f1-score   support\n",
      "\n",
      "           0       1.00      1.00      1.00       608\n",
      "           1       1.00      1.00      1.00        59\n",
      "\n",
      "    accuracy                           1.00       667\n",
      "   macro avg       1.00      1.00      1.00       667\n",
      "weighted avg       1.00      1.00      1.00       667\n",
      "\n"
     ]
    },
    {
     "data": {
      "text/plain": [
       "DecisionTreeClassifier()"
      ]
     },
     "execution_count": 56,
     "metadata": {},
     "output_type": "execute_result"
    }
   ],
   "source": [
    "run_model(dtc, x_train, y_train, x_test, y_test)"
   ]
  },
  {
   "cell_type": "code",
   "execution_count": null,
   "metadata": {
    "scrolled": false
   },
   "outputs": [],
   "source": [
    "#plot the decision tree\n",
    "plt.figure(figsize=(10, 5))\n",
    "tree.plot_tree(dtc, filled=True, max_depth=None)"
   ]
  },
  {
   "cell_type": "code",
   "execution_count": null,
   "metadata": {},
   "outputs": [],
   "source": [
    "#feature importances \n",
    "dtc.feature_importances_\n",
    "df = pd.DataFrame({'Feature Names':x.columns, 'Importance':dtc.feature_importances_})\n",
    "df.sort_values('Importance', ascending=False)"
   ]
  },
  {
   "cell_type": "markdown",
   "metadata": {},
   "source": [
    "For the Decision Tree Model, we can see that there is a nice attribute of it where we can check on feature importances. With the upwards graph, we can see that customers who had the Voicemail Plan had a high impact on customer Churn compared to the other features, so therefore we will keep this in mind when we discuss our recommendations. \n",
    "\n",
    "Over all the Decision Tree model had very good numbers across accuracy,  precision, recall and F1 scores. This held true even with testing variations to the default model, but due to Decision Trees having the tendency to overgeneralize the data and potentially leading to over fitting, this will most likely not be the final model choice."
   ]
  },
  {
   "cell_type": "markdown",
   "metadata": {},
   "source": [
    "# Random Forest Modeling"
   ]
  },
  {
   "cell_type": "code",
   "execution_count": null,
   "metadata": {},
   "outputs": [],
   "source": [
    "#using Random Forest as second model\n",
    "ranfor = RandomForestClassifier()"
   ]
  },
  {
   "cell_type": "code",
   "execution_count": null,
   "metadata": {},
   "outputs": [],
   "source": [
    "run_model(ranfor, x_train, y_train, x_test, y_test)"
   ]
  },
  {
   "cell_type": "code",
   "execution_count": null,
   "metadata": {},
   "outputs": [],
   "source": [
    "#feature importances \n",
    "ranfor.feature_importances_\n",
    "df = pd.DataFrame({'Feature Names':x.columns, 'Importance':ranfor.feature_importances_})\n",
    "df.sort_values('Importance', ascending=False)"
   ]
  },
  {
   "cell_type": "markdown",
   "metadata": {},
   "source": [
    "As with the Decision Tree Model, the Random Forest Model also deals with feature importances and shows that once again that the VoiceMail Plan is noted having great influence on customer Churn. The difference between the two models showing that the International Plan was slightly more relevant than VoiceMail Plans, but the latter still highly rated with importance. \n",
    "\n",
    "In addition, just like the Decision Tree Model, the Random Forest Model had high accuracy, precision, recall and F1 scores. These scores remained up to par, even after changing the default settings. Regardless of the number of estimators, the criterion and even max depth, the Random Forest Model performed very well.\n",
    "\n",
    "With all of this in mind, there is the fact that with Random Forest Models, the downside is that if they have a large number of trees, this can slow the prediction process. This may not be an issue just now, but we will keep this in mind when choosing what the final model for this dataset will be."
   ]
  },
  {
   "cell_type": "markdown",
   "metadata": {},
   "source": [
    "# Logistic Regression Modeling"
   ]
  },
  {
   "cell_type": "code",
   "execution_count": null,
   "metadata": {},
   "outputs": [],
   "source": [
    "#using Logistic Regression as third model\n",
    "logreg = LogisticRegression(max_iter=500)"
   ]
  },
  {
   "cell_type": "code",
   "execution_count": null,
   "metadata": {},
   "outputs": [],
   "source": [
    "run_model(logreg, x_train, y_train, x_test, y_test)"
   ]
  },
  {
   "cell_type": "markdown",
   "metadata": {},
   "source": [
    "The results of our Logistic Regression model are the same as the previous ones in terms of having good scores across the confusion matrices, which is great for our dataset but makes it that much tougher choosing one for our final model. Logistic Regression models are great since they are easy to implement and edit information to reflect new data, less prone to over fitting and when dealing with simplistic datasets, tend to be more accurate than others. \n",
    "\n",
    "There are a few downsides to Logistic Regression models though, including needing a significant amount of data since otherwise it will lead to over fitting, sometimes having difficulty dealing with more complex relationships among data. Also keeping in mind that not all problems are linear, so it may not be worth the time or effort transforming the data to work with the model. These are all valid points for and against Logistic Regression when deciding which model will be the best fit for us."
   ]
  },
  {
   "cell_type": "markdown",
   "metadata": {},
   "source": [
    "# Gaussian Naive Bayes Modeling"
   ]
  },
  {
   "cell_type": "code",
   "execution_count": null,
   "metadata": {},
   "outputs": [],
   "source": [
    "#using Naive Bayes GaussianNB as fourth model\n",
    "gnb = GaussianNB()"
   ]
  },
  {
   "cell_type": "code",
   "execution_count": null,
   "metadata": {},
   "outputs": [],
   "source": [
    "run_model(gnb, x_train, y_train, x_test, y_test)"
   ]
  },
  {
   "cell_type": "markdown",
   "metadata": {},
   "source": [
    "Once again looking at the scores across the matrix board, we see great results amongst all categories. Seeing these indicate that the Naive Bayes Gaussian Model might be a good fit for our customer retention problem. This model does better with less training data (if the assumption of independent feature holds true), is quick to use and can easily predict multiple class prediction problem. \n",
    "\n",
    "However, it should be noted that there are a few catches when working with this type of model. This model assumes that all features are independent to each other, which is tad unrealistic when dealing with data collected from the real world. Also, this model is notoriously known for being an inadequate estimator so using the \"predict_proba\" feature can't be relied on."
   ]
  },
  {
   "cell_type": "markdown",
   "metadata": {},
   "source": [
    "# Nearest Neighbors Modeling"
   ]
  },
  {
   "cell_type": "code",
   "execution_count": null,
   "metadata": {},
   "outputs": [],
   "source": [
    "#using KNN for fifth model\n",
    "knn =  KNeighborsClassifier()"
   ]
  },
  {
   "cell_type": "code",
   "execution_count": null,
   "metadata": {},
   "outputs": [],
   "source": [
    "run_model(knn, x_train, y_train, x_test, y_test)"
   ]
  },
  {
   "cell_type": "markdown",
   "metadata": {},
   "source": [
    "It seems the Nearest Neighbors Model (or the KNN for short) has finally broken the record for results. Here we can see in the confusion matrices that our model did not perform as well as the others did. \n",
    "\n",
    "With our train set data we can see that 2,393 of the customers that did not churn were correctly classified by the model to have stayed with SyriaTel but 9 were not. Also, for the consumers who did leave/churn, we see that 19 customers were correctly classified as ending their services with SyriaTel while that 245 customers were predicted to leave, didn't.\n",
    "\n",
    "Meanwhile, within our test set data we see that 603 of the customers who stayed with SyriaTel were correctly classified by the model while 5 weren't. In addition, for 1 customer they were correctly classified as canceling while 58 people who were expected to do so, remained instead. \n",
    "\n",
    "What this means is that this model predicts more people deciding to break away from our company than they actually do. This can be a good thing in a way, as that our results for who will end up leaving will better than what we can expect. However, on the other side of the coin, some of those customers that we expect to stay, will instead leave. \n",
    "\n",
    "With the KNN model, the upsides of using it is that the model is straightforward, it doesn't make any assumptions with the data and with the more data it deals with, the more it learns and evolves on it's own. It also very simple to use for multi-class problems and can be used for both classification and regression problems. \n",
    "\n",
    "Just like the others, there are some disadvantages to using the Nearest Neighbors Model. For instance, it is true that the model will learn more as the data set grows, but with it are the potential for outlier sensitivity that may skew results as well as the difficulty of finding out which is the true optimal number of neighbors to use. Furthermore, as the data set gets bigger, not only does KNN not have the capability to deal with missing value points, but the speed and efficiency of the model declines. With this in mind, while Nearest Neighbors might be the right model to use from some datasets, it seems unlikely that it will be our final model. \n"
   ]
  },
  {
   "cell_type": "markdown",
   "metadata": {},
   "source": [
    "# Final Model Outcomes and Recommendations"
   ]
  },
  {
   "cell_type": "code",
   "execution_count": null,
   "metadata": {
    "scrolled": false
   },
   "outputs": [],
   "source": [
    "#random forest with gridsearch\n",
    "ranfor_grid = {'n_estimators': [150], 'max_depth':[15], 'criterion': ['gini', 'entropy'], 'class_weight': ['balanced', 'balanced_subsample']}\n",
    "\n",
    "ranfor_search = GridSearchCV(RandomForestClassifier(), ranfor_grid, scoring='f1', verbose=0)\n",
    "\n",
    "ranfor_search.fit(x_train, y_train)"
   ]
  },
  {
   "cell_type": "code",
   "execution_count": null,
   "metadata": {},
   "outputs": [],
   "source": [
    "pd.DataFrame(ranfor_search.cv_results_)"
   ]
  },
  {
   "cell_type": "code",
   "execution_count": null,
   "metadata": {},
   "outputs": [],
   "source": [
    "best_params = ranfor_search.best_params_\n",
    "best_params"
   ]
  },
  {
   "cell_type": "code",
   "execution_count": null,
   "metadata": {},
   "outputs": [],
   "source": [
    "test_preds = ranfor_search.predict(x_test)\n",
    "plot_confusion_matrix(ranfor_search, x_test, y_test)"
   ]
  },
  {
   "cell_type": "code",
   "execution_count": null,
   "metadata": {},
   "outputs": [],
   "source": [
    "print(classification_report(y_test, test_preds))"
   ]
  },
  {
   "cell_type": "code",
   "execution_count": null,
   "metadata": {},
   "outputs": [],
   "source": [
    "data['Churn'] = data['Churn'].replace({0: 'stayed', 1: 'left'})\n",
    "# 0 is stayed, 1 is left"
   ]
  },
  {
   "cell_type": "code",
   "execution_count": null,
   "metadata": {},
   "outputs": [],
   "source": [
    "InPlanPlot = px.histogram(data, x=\"International Plan\", color=\"Churn\")\n",
    "InPlanPlot"
   ]
  },
  {
   "cell_type": "code",
   "execution_count": null,
   "metadata": {},
   "outputs": [],
   "source": [
    "VoicePlot = px.histogram(data, x=\"Voicemail Plan\", color=\"Churn\")\n",
    "VoicePlot"
   ]
  },
  {
   "cell_type": "markdown",
   "metadata": {},
   "source": [
    "Here with the graphs above, we can see after our model has run with the best parameters that within the International Plan and Voicemail Plan, the same amount of people left SyriaTel. This indicates that both features are equally important as to why consumers are leaving and both should be the focus of improvement rather than just one of them."
   ]
  },
  {
   "cell_type": "code",
   "execution_count": null,
   "metadata": {},
   "outputs": [],
   "source": [
    "EvePlot = px.histogram(data, x=\"Total Evening Minutes\", color=\"Churn\")\n",
    "EvePlot"
   ]
  },
  {
   "cell_type": "markdown",
   "metadata": {},
   "source": [
    "With the graphs on either side of this paragraph, we can tell that for the following important features listed for Random Forest Total Evening Minutes and Total Night Minutes, both had similar results in that when the minutes began to enter the 150 to 280 range, more people began to leave than stay. This could indicate that perhaps the plans for evenings and nights need to be revised to better suit the needs of people talking quite a bit in these hours."
   ]
  },
  {
   "cell_type": "code",
   "execution_count": null,
   "metadata": {},
   "outputs": [],
   "source": [
    "NightPlot = px.histogram(data, x=\"Total Night Minutes\", color=\"Churn\")\n",
    "NightPlot"
   ]
  },
  {
   "cell_type": "markdown",
   "metadata": {},
   "source": [
    "The final model ended up being the Random Forest Classifier for a few reasons. Even though most of the models run above had good results, Random Forest not only had a high f1 score, but the results were reliable and quick. These models are known to run efficiently on large datasets, resistant with outliers and have a lower risk of over fitting to the data. \n",
    "\n",
    "Focusing on the f1 scores allowed us to have a harmonious balance between precision and recall. And since having high accuracy does not necessarily mean you'll have class equity results, f1 seemed to be the most reliable score to use. \n",
    "\n",
    "Our final model accurately predicted that 608 people who would stay with SyriaTel would stay and those 59 people who would churn, did so. Random Forest also has feature importances, which gave us insight as to which service should be the focus of improving at SyriaTel. With almost half the results for the feature importance being the International Plan as well as the Voicemail Plan, these should be the main focuses of enhancement for the company to prevent customer Churn. \n",
    "\n",
    "The only downside to Random Forest, as mentioned earlier, is that as the data set gets bigger it can over fit. However, with the best parameters feature, we were able to find that the most efficient class weight is balance, the criterion (a way to measure the quality of a split) was gini, with a max depth of trees being 15 and 150 estimators, our model should run smoothly.\n",
    "\n",
    "With any model, there can always be improvement. Here, it would be recommended to have other models tested with more datasets (both past and future company data) as the multiple iterations on different aspects of customer data would provide a clearer picture as to why consumers are ending their services with SyriaTel."
   ]
  }
 ],
 "metadata": {
  "kernelspec": {
   "display_name": "Python 3",
   "language": "python",
   "name": "python3"
  },
  "language_info": {
   "codemirror_mode": {
    "name": "ipython",
    "version": 3
   },
   "file_extension": ".py",
   "mimetype": "text/x-python",
   "name": "python",
   "nbconvert_exporter": "python",
   "pygments_lexer": "ipython3",
   "version": "3.8.5"
  },
  "toc": {
   "base_numbering": 1,
   "nav_menu": {},
   "number_sections": true,
   "sideBar": true,
   "skip_h1_title": false,
   "title_cell": "Table of Contents",
   "title_sidebar": "Contents",
   "toc_cell": false,
   "toc_position": {
    "height": "calc(100% - 180px)",
    "left": "10px",
    "top": "150px",
    "width": "384px"
   },
   "toc_section_display": true,
   "toc_window_display": false
  },
  "varInspector": {
   "cols": {
    "lenName": 16,
    "lenType": 16,
    "lenVar": 40
   },
   "kernels_config": {
    "python": {
     "delete_cmd_postfix": "",
     "delete_cmd_prefix": "del ",
     "library": "var_list.py",
     "varRefreshCmd": "print(var_dic_list())"
    },
    "r": {
     "delete_cmd_postfix": ") ",
     "delete_cmd_prefix": "rm(",
     "library": "var_list.r",
     "varRefreshCmd": "cat(var_dic_list()) "
    }
   },
   "types_to_exclude": [
    "module",
    "function",
    "builtin_function_or_method",
    "instance",
    "_Feature"
   ],
   "window_display": false
  }
 },
 "nbformat": 4,
 "nbformat_minor": 4
}
